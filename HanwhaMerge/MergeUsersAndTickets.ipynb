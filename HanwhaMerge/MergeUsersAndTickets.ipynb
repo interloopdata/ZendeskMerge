{
 "cells": [
  {
   "cell_type": "code",
   "execution_count": 1,
   "id": "8507dc58",
   "metadata": {},
   "outputs": [],
   "source": [
    "import pandas as pd\n",
    "import os\n",
    "import json\n",
    "from zenpy import Zenpy\n",
    "from zenpy.lib.api_objects import Organization, Ticket, User\n",
    "import logging"
   ]
  },
  {
   "cell_type": "code",
   "execution_count": 3,
   "id": "dc8df2d0",
   "metadata": {},
   "outputs": [],
   "source": [
    "# Creds for zendesk sandbox.\n",
    "creds = {\n",
    "    \"email\": \"dstarrett@interloop.ai\",\n",
    "    \"token\": os.environ['zendesk_token'],\n",
    "    \"subdomain\": \"d3v-interloop-demo\"\n",
    "}\n",
    "\n",
    "# Zendesk client.\n",
    "zenpy_client = Zenpy(**creds)"
   ]
  },
  {
   "cell_type": "code",
   "execution_count": 4,
   "id": "518acc16",
   "metadata": {},
   "outputs": [],
   "source": [
    "def move_users_to_primary_org(\n",
    "    domain,\n",
    "    primary_org_id,\n",
    "    zendesk_client\n",
    "):\n",
    "    # Iterate through organizations whose domain == the domain of the primary org.\n",
    "    for org in zendesk_client.organizations(domain=domain.lower()):\n",
    "        org_dict = org.to_dict()\n",
    "        print(org_dict)\n",
    "        # For each user related to the organization.\n",
    "        for user in zendesk_client.search(type='user', organization_id=org_dict['id']):\n",
    "            try:\n",
    "                u = User(**user.to_dict())\n",
    "                # Change the user's organization_id value to the primary org.\n",
    "                u.organization_id = primary_org_id\n",
    "                zendesk_client.users.update(u)\n",
    "            except:\n",
    "                logging.warning(f\"Unable to modify user {user}\")\n",
    "            "
   ]
  },
  {
   "cell_type": "code",
   "execution_count": 5,
   "id": "61b093b5",
   "metadata": {},
   "outputs": [
    {
     "name": "stdout",
     "output_type": "stream",
     "text": [
      "{'created_at': '2022-11-16T19:15:11Z', 'details': '', 'domain_names': ['adt.com'], 'external_id': None, 'group_id': None, 'id': 10272844406423, 'name': 'ADT', 'notes': '', 'organization_fields': {}, 'shared_comments': True, 'shared_tickets': True, 'tags': [], 'updated_at': '2022-11-17T16:42:04Z', 'url': 'https://d3v-interloop-demo.zendesk.com/api/v2/organizations/10272844406423.json'}\n",
      "{'created_at': '2022-11-16T19:15:10Z', 'details': None, 'domain_names': ['adt.com'], 'external_id': None, 'group_id': None, 'id': 10272844337815, 'name': 'ADT / P1', 'notes': None, 'organization_fields': {}, 'shared_comments': False, 'shared_tickets': False, 'tags': [], 'updated_at': '2022-11-16T19:15:10Z', 'url': 'https://d3v-interloop-demo.zendesk.com/api/v2/organizations/10272844337815.json'}\n",
      "{'created_at': '2022-11-16T19:29:36Z', 'details': '', 'domain_names': ['adt.com'], 'external_id': None, 'group_id': None, 'id': 10273295657367, 'name': 'ADT Alaska', 'notes': '', 'organization_fields': {}, 'shared_comments': True, 'shared_tickets': True, 'tags': [], 'updated_at': '2022-11-17T16:40:50Z', 'url': 'https://d3v-interloop-demo.zendesk.com/api/v2/organizations/10273295657367.json'}\n",
      "{'created_at': '2022-11-16T19:15:12Z', 'details': '', 'domain_names': ['adt.com'], 'external_id': None, 'group_id': None, 'id': 10272844523543, 'name': 'ADT Canada', 'notes': '', 'organization_fields': {}, 'shared_comments': True, 'shared_tickets': True, 'tags': [], 'updated_at': '2022-11-17T16:41:42Z', 'url': 'https://d3v-interloop-demo.zendesk.com/api/v2/organizations/10272844523543.json'}\n",
      "{'created_at': '2022-11-16T19:15:11Z', 'details': '', 'domain_names': ['adt.com'], 'external_id': None, 'group_id': None, 'id': 10272859595415, 'name': 'ADT Commercial', 'notes': '', 'organization_fields': {}, 'shared_comments': True, 'shared_tickets': True, 'tags': [], 'updated_at': '2022-11-17T16:41:49Z', 'url': 'https://d3v-interloop-demo.zendesk.com/api/v2/organizations/10272859595415.json'}\n",
      "{'created_at': '2022-11-16T19:15:10Z', 'details': None, 'domain_names': ['adt.com'], 'external_id': None, 'group_id': None, 'id': 10272859488535, 'name': 'ADT Commercial Redlands', 'notes': None, 'organization_fields': {}, 'shared_comments': False, 'shared_tickets': False, 'tags': [], 'updated_at': '2022-11-16T19:15:10Z', 'url': 'https://d3v-interloop-demo.zendesk.com/api/v2/organizations/10272859488535.json'}\n",
      "{'created_at': '2022-11-16T19:15:12Z', 'details': '', 'domain_names': ['adt.com'], 'external_id': None, 'group_id': None, 'id': 10272859648151, 'name': 'ADT Commerical', 'notes': '', 'organization_fields': {}, 'shared_comments': True, 'shared_tickets': True, 'tags': [], 'updated_at': '2022-11-17T16:41:03Z', 'url': 'https://d3v-interloop-demo.zendesk.com/api/v2/organizations/10272859648151.json'}\n",
      "{'created_at': '2022-11-16T19:15:10Z', 'details': None, 'domain_names': ['adt.com'], 'external_id': None, 'group_id': None, 'id': 10272859435287, 'name': 'ADT Contractor', 'notes': None, 'organization_fields': {}, 'shared_comments': False, 'shared_tickets': False, 'tags': [], 'updated_at': '2022-11-16T19:15:10Z', 'url': 'https://d3v-interloop-demo.zendesk.com/api/v2/organizations/10272859435287.json'}\n",
      "{'created_at': '2022-11-16T19:15:11Z', 'details': '', 'domain_names': ['adt.com'], 'external_id': None, 'group_id': None, 'id': 10272859550615, 'name': 'ADT End User', 'notes': '', 'organization_fields': {}, 'shared_comments': True, 'shared_tickets': True, 'tags': [], 'updated_at': '2022-11-17T16:41:57Z', 'url': 'https://d3v-interloop-demo.zendesk.com/api/v2/organizations/10272859550615.json'}\n",
      "{'created_at': '2022-11-16T19:46:38Z', 'details': '', 'domain_names': ['adt.com'], 'external_id': None, 'group_id': None, 'id': 10273782180375, 'name': 'ADT Hawaii', 'notes': '', 'organization_fields': {}, 'shared_comments': True, 'shared_tickets': True, 'tags': [], 'updated_at': '2022-11-17T16:40:39Z', 'url': 'https://d3v-interloop-demo.zendesk.com/api/v2/organizations/10273782180375.json'}\n",
      "{'created_at': '2022-11-16T19:15:08Z', 'details': None, 'domain_names': ['adt.com'], 'external_id': None, 'group_id': None, 'id': 10272844123927, 'name': 'ADT P1', 'notes': None, 'organization_fields': {}, 'shared_comments': False, 'shared_tickets': False, 'tags': [], 'updated_at': '2022-11-16T19:15:08Z', 'url': 'https://d3v-interloop-demo.zendesk.com/api/v2/organizations/10272844123927.json'}\n",
      "{'created_at': '2022-11-16T19:15:12Z', 'details': '', 'domain_names': ['adt.com'], 'external_id': None, 'group_id': None, 'id': 10272844574999, 'name': 'ADT Security', 'notes': '', 'organization_fields': {}, 'shared_comments': True, 'shared_tickets': True, 'tags': [], 'updated_at': '2022-11-17T16:41:33Z', 'url': 'https://d3v-interloop-demo.zendesk.com/api/v2/organizations/10272844574999.json'}\n",
      "{'created_at': '2022-11-16T19:25:32Z', 'details': '', 'domain_names': ['adt.com'], 'external_id': None, 'group_id': None, 'id': 10273138178071, 'name': 'ADT South Carolina', 'notes': '', 'organization_fields': {}, 'shared_comments': True, 'shared_tickets': True, 'tags': [], 'updated_at': '2022-11-17T16:39:58Z', 'url': 'https://d3v-interloop-demo.zendesk.com/api/v2/organizations/10273138178071.json'}\n",
      "{'created_at': '2022-11-16T19:15:09Z', 'details': None, 'domain_names': ['adt.com'], 'external_id': None, 'group_id': None, 'id': 10272844234903, 'name': 'ADT/P1', 'notes': None, 'organization_fields': {}, 'shared_comments': False, 'shared_tickets': False, 'tags': [], 'updated_at': '2022-11-16T19:15:09Z', 'url': 'https://d3v-interloop-demo.zendesk.com/api/v2/organizations/10272844234903.json'}\n",
      "{'created_at': '2022-11-16T19:15:07Z', 'details': None, 'domain_names': ['adt.com'], 'external_id': None, 'group_id': None, 'id': 10272859148439, 'name': 'ADT/P1 - Boca Raton, FL - HQ', 'notes': None, 'organization_fields': {}, 'shared_comments': False, 'shared_tickets': False, 'tags': [], 'updated_at': '2022-11-16T19:15:07Z', 'url': 'https://d3v-interloop-demo.zendesk.com/api/v2/organizations/10272859148439.json'}\n",
      "{'created_at': '2020-11-02T13:46:09Z', 'details': None, 'domain_names': [], 'external_id': None, 'group_id': None, 'id': 370573253033, 'name': 'Interloop.ai', 'notes': None, 'organization_fields': {}, 'shared_comments': False, 'shared_tickets': False, 'tags': [], 'updated_at': '2020-11-02T13:46:09Z', 'url': 'https://d3v-interloop-demo.zendesk.com/api/v2/organizations/370573253033.json'}\n"
     ]
    },
    {
     "name": "stderr",
     "output_type": "stream",
     "text": [
      "WARNING:root:Unable to modify user User(id=425337853374)\n"
     ]
    },
    {
     "name": "stdout",
     "output_type": "stream",
     "text": [
      "{'created_at': '2022-11-16T19:15:08Z', 'details': None, 'domain_names': ['adt.com'], 'external_id': None, 'group_id': None, 'id': 10272859235735, 'name': 'M.S. Electronics LLC dba MSE Corporate Security', 'notes': None, 'organization_fields': {}, 'shared_comments': False, 'shared_tickets': False, 'tags': [], 'updated_at': '2022-11-16T19:15:08Z', 'url': 'https://d3v-interloop-demo.zendesk.com/api/v2/organizations/10272859235735.json'}\n",
      "{'created_at': '2021-02-09T17:29:02Z', 'details': '', 'domain_names': ['pool.com'], 'external_id': None, 'group_id': None, 'id': 370618914353, 'name': 'pool', 'notes': '', 'organization_fields': {}, 'shared_comments': False, 'shared_tickets': False, 'tags': [], 'updated_at': '2021-02-09T17:29:02Z', 'url': 'https://d3v-interloop-demo.zendesk.com/api/v2/organizations/370618914353.json'}\n",
      "{'created_at': '2022-11-16T19:15:07Z', 'details': None, 'domain_names': ['adt.com'], 'external_id': None, 'group_id': None, 'id': 10272859173015, 'name': 'Protection One Alarm Monitoring, Inc. dba Pacific Security Integration  an ADT/PA company - Romeoville, IL', 'notes': None, 'organization_fields': {}, 'shared_comments': False, 'shared_tickets': False, 'tags': [], 'updated_at': '2022-11-16T19:15:07Z', 'url': 'https://d3v-interloop-demo.zendesk.com/api/v2/organizations/10272859173015.json'}\n",
      "{'created_at': '2022-11-16T19:15:08Z', 'details': None, 'domain_names': ['adt.com'], 'external_id': None, 'group_id': None, 'id': 10272859313175, 'name': 'Subcontractor for ADT', 'notes': None, 'organization_fields': {}, 'shared_comments': False, 'shared_tickets': False, 'tags': [], 'updated_at': '2022-11-16T19:15:08Z', 'url': 'https://d3v-interloop-demo.zendesk.com/api/v2/organizations/10272859313175.json'}\n"
     ]
    }
   ],
   "source": [
    "# Use method above to move all users related to non-primary orgs to the primary org.\n",
    "move_users_to_primary_org(domain=\"adt.com\", primary_org_id=10272844406423, zendesk_client=zenpy_client)"
   ]
  }
 ],
 "metadata": {
  "kernelspec": {
   "display_name": "Python 3 (ipykernel)",
   "language": "python",
   "name": "python3"
  },
  "language_info": {
   "codemirror_mode": {
    "name": "ipython",
    "version": 3
   },
   "file_extension": ".py",
   "mimetype": "text/x-python",
   "name": "python",
   "nbconvert_exporter": "python",
   "pygments_lexer": "ipython3",
   "version": "3.9.13"
  }
 },
 "nbformat": 4,
 "nbformat_minor": 5
}
